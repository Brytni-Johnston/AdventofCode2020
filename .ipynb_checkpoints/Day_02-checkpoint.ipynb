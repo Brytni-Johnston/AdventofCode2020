{
 "cells": [
  {
   "cell_type": "code",
   "execution_count": 37,
   "metadata": {},
   "outputs": [],
   "source": [
    "import numpy as np\n",
    "\n",
    "data = np.loadtxt('day02input.txt',delimiter=' ',dtype=str)"
   ]
  },
  {
   "cell_type": "code",
   "execution_count": 38,
   "metadata": {},
   "outputs": [
    {
     "name": "stdout",
     "output_type": "stream",
     "text": [
      "556\n"
     ]
    }
   ],
   "source": [
    "#Part 1: How many passwords are valid (contain the designated amount of the given letter)?\n",
    "\n",
    "min_max = np.array([i.split('-') for i in data[:,0]]).astype(int)\n",
    "letter = np.array([i[0] for i in data[:,1]])\n",
    "pword = data[:,2]\n",
    "count = [pword[i].count(letter[i]) for i in np.arange(len(pword))]\n",
    "min_max = np.insert(min_max, 1, count, axis=1)\n",
    "print(sum([np.prod((i==np.sort(i))) for i in min_max]))"
   ]
  },
  {
   "cell_type": "code",
   "execution_count": 46,
   "metadata": {},
   "outputs": [
    {
     "name": "stdout",
     "output_type": "stream",
     "text": [
      "605\n"
     ]
    }
   ],
   "source": [
    "#Part 2: How many passwords are valid (exactly one of the indices must contain the given letter)?\n",
    "\n",
    "pos = np.array([i.split('-') for i in data[:,0]]).astype(int) -1\n",
    "letters = [[pword[i][pos[i,0]],pword[i][pos[i,1]]] for i in np.arange(len(pword))]\n",
    "print([letters[i].count(letter[i]) for i in np.arange(len(pword))].count(1))"
   ]
  },
  {
   "cell_type": "code",
   "execution_count": null,
   "metadata": {},
   "outputs": [],
   "source": []
  }
 ],
 "metadata": {
  "kernelspec": {
   "display_name": "Python 3",
   "language": "python",
   "name": "python3"
  },
  "language_info": {
   "codemirror_mode": {
    "name": "ipython",
    "version": 3
   },
   "file_extension": ".py",
   "mimetype": "text/x-python",
   "name": "python",
   "nbconvert_exporter": "python",
   "pygments_lexer": "ipython3",
   "version": "3.7.7"
  }
 },
 "nbformat": 4,
 "nbformat_minor": 4
}
