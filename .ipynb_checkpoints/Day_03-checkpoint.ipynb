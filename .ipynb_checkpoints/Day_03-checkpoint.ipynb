{
 "cells": [
  {
   "cell_type": "code",
   "execution_count": 1,
   "metadata": {},
   "outputs": [],
   "source": [
    "import numpy as np\n",
    "\n",
    "data = np.loadtxt('day03input.txt',dtype=str,comments=None)"
   ]
  },
  {
   "cell_type": "code",
   "execution_count": 2,
   "metadata": {},
   "outputs": [
    {
     "data": {
      "text/plain": [
       "153"
      ]
     },
     "execution_count": 2,
     "metadata": {},
     "output_type": "execute_result"
    }
   ],
   "source": [
    "# Part 1: Going down the slope (over 3, down 1), how many trees (#) will you run into?\n",
    "\n",
    "def numtrees(sloperight,slopedown):\n",
    "    cycle = len(data[0])\n",
    "    position=0\n",
    "    count=0\n",
    "\n",
    "    for i in np.arange(len(data)):\n",
    "        if i%slopedown == 0:\n",
    "            if data[i][position] == '#':\n",
    "                count +=1\n",
    "            position += sloperight\n",
    "            if position >= cycle:\n",
    "                position -= cycle\n",
    "    return(count)\n",
    "\n",
    "numtrees(3,1)"
   ]
  },
  {
   "cell_type": "code",
   "execution_count": 3,
   "metadata": {},
   "outputs": [
    {
     "name": "stdout",
     "output_type": "stream",
     "text": [
      "2421944712\n"
     ]
    }
   ],
   "source": [
    "# Part 2: Go down the slope with (1,1), (3,1), (5,1), (7,1) and (1,2) and find product of trees hit each time\n",
    "\n",
    "print(numtrees(1,1)*numtrees(3,1)*numtrees(5,1)*numtrees(7,1)*numtrees(1,2))"
   ]
  },
  {
   "cell_type": "code",
   "execution_count": null,
   "metadata": {},
   "outputs": [],
   "source": []
  }
 ],
 "metadata": {
  "kernelspec": {
   "display_name": "Python 3",
   "language": "python",
   "name": "python3"
  },
  "language_info": {
   "codemirror_mode": {
    "name": "ipython",
    "version": 3
   },
   "file_extension": ".py",
   "mimetype": "text/x-python",
   "name": "python",
   "nbconvert_exporter": "python",
   "pygments_lexer": "ipython3",
   "version": "3.7.7"
  }
 },
 "nbformat": 4,
 "nbformat_minor": 4
}
