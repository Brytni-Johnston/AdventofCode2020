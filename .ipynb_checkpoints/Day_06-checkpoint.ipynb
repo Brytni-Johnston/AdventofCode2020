{
 "cells": [
  {
   "cell_type": "code",
   "execution_count": 1,
   "metadata": {},
   "outputs": [],
   "source": [
    "import numpy as np\n",
    "import pandas as pd\n",
    "\n",
    "data = pd.read_csv('day06input.txt',dtype=str,skip_blank_lines=False,header=None)"
   ]
  },
  {
   "cell_type": "code",
   "execution_count": 9,
   "metadata": {},
   "outputs": [
    {
     "name": "stdout",
     "output_type": "stream",
     "text": [
      "6249\n"
     ]
    }
   ],
   "source": [
    "#Part 1: Find the total number of unique yesses from each group\n",
    "\n",
    "answers = []\n",
    "string = ''\n",
    "\n",
    "for i in data.index:\n",
    "    if data.loc[i].notna().item():\n",
    "        string += data.loc[i].item()\n",
    "    else:\n",
    "        answers.append(string)\n",
    "        string = ''\n",
    "answers.append(string)        \n",
    "print(sum([len(''.join(set(i))) for i in answers]))"
   ]
  },
  {
   "cell_type": "code",
   "execution_count": 22,
   "metadata": {},
   "outputs": [
    {
     "name": "stdout",
     "output_type": "stream",
     "text": [
      "3103\n"
     ]
    }
   ],
   "source": [
    "#Part 2: Find the total number of questions to which everyone from the group answered yes\n",
    "\n",
    "answers = []\n",
    "string = ''\n",
    "\n",
    "for i in data.index:\n",
    "    if data.loc[i].notna().item():\n",
    "        string += ' '+data.loc[i].item()\n",
    "    else:\n",
    "        answers.append(string)\n",
    "        string = ''\n",
    "answers.append(string)        \n",
    "answers = [i.split(' ') for i in answers]\n",
    "print(sum([len(set(i[1]).intersection(*i[1:])) for i in answers]))"
   ]
  },
  {
   "cell_type": "code",
   "execution_count": null,
   "metadata": {},
   "outputs": [],
   "source": []
  }
 ],
 "metadata": {
  "kernelspec": {
   "display_name": "Python 3",
   "language": "python",
   "name": "python3"
  },
  "language_info": {
   "codemirror_mode": {
    "name": "ipython",
    "version": 3
   },
   "file_extension": ".py",
   "mimetype": "text/x-python",
   "name": "python",
   "nbconvert_exporter": "python",
   "pygments_lexer": "ipython3",
   "version": "3.7.7"
  }
 },
 "nbformat": 4,
 "nbformat_minor": 4
}
