{
 "cells": [
  {
   "cell_type": "code",
   "execution_count": 1,
   "metadata": {},
   "outputs": [],
   "source": [
    "import numpy as np\n",
    "import pandas as pd\n",
    "\n",
    "data = pd.read_csv('day08input.txt',dtype=str,delimiter=' ',header=None,engine='python')\n",
    "data[2] = data[1].str[1:].astype(int)\n",
    "data[1] = data[1].str[0]"
   ]
  },
  {
   "cell_type": "code",
   "execution_count": 2,
   "metadata": {},
   "outputs": [
    {
     "name": "stdout",
     "output_type": "stream",
     "text": [
      "1723\n"
     ]
    }
   ],
   "source": [
    "#Part 1: What is the accumulator value before any instruction is completed?\n",
    "\n",
    "accum = 0\n",
    "Indices = []\n",
    "index = 0\n",
    "while index not in Indices:\n",
    "    Indices.append(index)\n",
    "    if data.loc[index,0] == 'acc':\n",
    "        if data.loc[index,1] == '+':\n",
    "            accum += data.loc[index,2]\n",
    "        elif data.loc[index,1] == '-':\n",
    "            accum -= data.loc[index,2]\n",
    "        index += 1\n",
    "    \n",
    "    elif data.loc[index,0] == 'jmp':\n",
    "        if data.loc[index,1] == '+':\n",
    "            index += data.loc[index,2]\n",
    "        elif data.loc[index,1] == '-':\n",
    "            index -= data.loc[index,2]\n",
    "\n",
    "    elif data.loc[index,0] == 'nop':\n",
    "        index += 1\n",
    "        \n",
    "print(accum)"
   ]
  },
  {
   "cell_type": "code",
   "execution_count": 3,
   "metadata": {},
   "outputs": [
    {
     "name": "stdout",
     "output_type": "stream",
     "text": [
      "846\n"
     ]
    }
   ],
   "source": [
    "#Part 2: What is the accumulation if one instruction is changed such that the program reaches the end?\n",
    "\n",
    "nop_jmp = data[data[0] != 'acc'].index\n",
    "\n",
    "for i in nop_jmp:\n",
    "    if data.loc[i,0] == 'jmp':\n",
    "        data.loc[i,0] = 'nop'\n",
    "    elif data.loc[i,0] == 'nop':\n",
    "        data.loc[i,0] = 'jmp'\n",
    "        \n",
    "    accum = 0\n",
    "    Indices = []\n",
    "    index = 0\n",
    "    while index not in Indices:\n",
    "        Indices.append(index)\n",
    "        if index < 653:\n",
    "            if data.loc[index,0] == 'acc':\n",
    "                if data.loc[index,1] == '+':\n",
    "                    accum += data.loc[index,2]\n",
    "                elif data.loc[index,1] == '-':\n",
    "                    accum -= data.loc[index,2]\n",
    "                index += 1\n",
    "\n",
    "            elif data.loc[index,0] == 'jmp':\n",
    "                if data.loc[index,1] == '+':\n",
    "                    index += data.loc[index,2]\n",
    "                elif data.loc[index,1] == '-':\n",
    "                    index -= data.loc[index,2]\n",
    "\n",
    "            elif data.loc[index,0] == 'nop':\n",
    "                index += 1\n",
    "        else:\n",
    "            print(accum)\n",
    "    \n",
    "    if data.loc[i,0] == 'jmp':\n",
    "        data.loc[i,0] = 'nop'\n",
    "    elif data.loc[i,0] == 'nop':\n",
    "        data.loc[i,0] = 'jmp'"
   ]
  },
  {
   "cell_type": "code",
   "execution_count": null,
   "metadata": {},
   "outputs": [],
   "source": []
  }
 ],
 "metadata": {
  "kernelspec": {
   "display_name": "Python 3",
   "language": "python",
   "name": "python3"
  },
  "language_info": {
   "codemirror_mode": {
    "name": "ipython",
    "version": 3
   },
   "file_extension": ".py",
   "mimetype": "text/x-python",
   "name": "python",
   "nbconvert_exporter": "python",
   "pygments_lexer": "ipython3",
   "version": "3.7.7"
  }
 },
 "nbformat": 4,
 "nbformat_minor": 4
}
