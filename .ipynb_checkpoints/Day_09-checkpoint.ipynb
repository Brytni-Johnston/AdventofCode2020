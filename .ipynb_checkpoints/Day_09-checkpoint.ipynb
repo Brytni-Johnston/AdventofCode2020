{
 "cells": [
  {
   "cell_type": "code",
   "execution_count": 1,
   "metadata": {},
   "outputs": [],
   "source": [
    "import numpy as np\n",
    "import pandas as pd\n",
    "\n",
    "data = np.loadtxt('day09input.txt',dtype=float)"
   ]
  },
  {
   "cell_type": "code",
   "execution_count": 2,
   "metadata": {},
   "outputs": [
    {
     "name": "stdout",
     "output_type": "stream",
     "text": [
      "18272118.0\n"
     ]
    }
   ],
   "source": [
    "#Part 1: Which number is the first to not be the sum of two of the previous 25 numbers?\n",
    "\n",
    "found = False\n",
    "index = 25\n",
    "\n",
    "while not found:\n",
    "    prev_nums = data[index-25:index]\n",
    "    pairs = data[index] - prev_nums\n",
    "    if pd.Series(pairs).isin(prev_nums).any() == False:\n",
    "        found = True\n",
    "        invalid = data[index]\n",
    "        print(invalid)\n",
    "    else:\n",
    "        index += 1\n",
    "    "
   ]
  },
  {
   "cell_type": "code",
   "execution_count": 3,
   "metadata": {},
   "outputs": [
    {
     "name": "stdout",
     "output_type": "stream",
     "text": [
      "2186361.0\n"
     ]
    }
   ],
   "source": [
    "#Part 2: Which set of numbers sum of two of the previous 25 numbers?\n",
    "\n",
    "found = False\n",
    "index = 0\n",
    "\n",
    "while not found:\n",
    "    summ = 0\n",
    "    for i in np.arange(index,len(data)):\n",
    "        summ += data[i]\n",
    "        if summ > invalid:\n",
    "            break\n",
    "        elif summ == invalid:\n",
    "            found = True\n",
    "            print(max(data[np.arange(index,i+1)]) + min(data[np.arange(index,i+1)]))\n",
    "    index += 1\n",
    "    "
   ]
  },
  {
   "cell_type": "code",
   "execution_count": null,
   "metadata": {},
   "outputs": [],
   "source": []
  }
 ],
 "metadata": {
  "kernelspec": {
   "display_name": "Python 3",
   "language": "python",
   "name": "python3"
  },
  "language_info": {
   "codemirror_mode": {
    "name": "ipython",
    "version": 3
   },
   "file_extension": ".py",
   "mimetype": "text/x-python",
   "name": "python",
   "nbconvert_exporter": "python",
   "pygments_lexer": "ipython3",
   "version": "3.7.7"
  }
 },
 "nbformat": 4,
 "nbformat_minor": 4
}
