{
 "cells": [
  {
   "cell_type": "code",
   "execution_count": 1,
   "metadata": {},
   "outputs": [],
   "source": [
    "import numpy as np\n",
    "import pandas as pd\n",
    "\n",
    "data = np.loadtxt('day12input.txt',dtype=str)"
   ]
  },
  {
   "cell_type": "code",
   "execution_count": 2,
   "metadata": {},
   "outputs": [
    {
     "name": "stdout",
     "output_type": "stream",
     "text": [
      "2228\n"
     ]
    }
   ],
   "source": [
    "#Part 1: Following the instructions, what is the ship's manhattan distance from the start?\n",
    "\n",
    "x = 0\n",
    "y = 0\n",
    "facing = 'E'\n",
    "Dir = np.array(['E','S','W','N'])\n",
    "x_change = {'N':0,'S':0,'E':1,'W':-1}\n",
    "y_change = {'N':1,'S':-1,'E':0,'W':0}\n",
    "\n",
    "for i in data:\n",
    "    if i[0] in Dir:\n",
    "        x += x_change[i[0]]*int(i[1:])\n",
    "        y += y_change[i[0]]*int(i[1:])\n",
    "    elif i[0] == 'L':\n",
    "        rotate = int(int(i[1:])/90)\n",
    "        Dir = np.roll(Dir,rotate)\n",
    "        facing = Dir[0]\n",
    "    elif i[0] == 'R':\n",
    "        rotate = int(-1*int(i[1:])/90)\n",
    "        Dir = np.roll(Dir,rotate)\n",
    "        facing = Dir[0]     \n",
    "    elif i[0] == 'F':\n",
    "        x += x_change[facing]*int(i[1:])\n",
    "        y += y_change[facing]*int(i[1:])\n",
    "print(np.abs(x+y))"
   ]
  },
  {
   "cell_type": "code",
   "execution_count": 3,
   "metadata": {},
   "outputs": [
    {
     "name": "stdout",
     "output_type": "stream",
     "text": [
      "42908\n"
     ]
    }
   ],
   "source": [
    "#Part 2: Using the waypoint, what is the ship's final manhattan distance from the start?\n",
    "\n",
    "ship_x = 0\n",
    "ship_y = 0\n",
    "wp_x = 10\n",
    "wp_y = 1\n",
    "\n",
    "Dir = np.array(['N','E','S','W'])\n",
    "x_change = {'N':0,'S':0,'E':1,'W':-1}\n",
    "y_change = {'N':1,'S':-1,'E':0,'W':0}\n",
    "clockwise = np.array([[0,-1],[1,0]])\n",
    "\n",
    "for i in data:\n",
    "    if i[0] in Dir:\n",
    "        wp_x += x_change[i[0]]*int(i[1:])\n",
    "        wp_y += y_change[i[0]]*int(i[1:])\n",
    "    elif i[0] == 'L':\n",
    "        rotate = int(int(i[1:])/90)\n",
    "        for i in np.arange(rotate):\n",
    "            wp_coords = np.array([wp_x,wp_y])\n",
    "            wp_x,wp_y = np.matmul(wp_coords,-1*clockwise)\n",
    "    elif i[0] == 'R':\n",
    "        rotate = int(int(i[1:])/90)\n",
    "        for i in np.arange(rotate):\n",
    "            wp_coords = np.array([wp_x,wp_y])\n",
    "            wp_x,wp_y = np.matmul(wp_coords,clockwise)\n",
    "    elif i[0] == 'F':\n",
    "        ship_x += wp_x*int(i[1:])\n",
    "        ship_y += wp_y*int(i[1:])\n",
    "print(np.abs(ship_x)+np.abs(ship_y))"
   ]
  },
  {
   "cell_type": "code",
   "execution_count": null,
   "metadata": {},
   "outputs": [],
   "source": []
  }
 ],
 "metadata": {
  "kernelspec": {
   "display_name": "Python 3",
   "language": "python",
   "name": "python3"
  },
  "language_info": {
   "codemirror_mode": {
    "name": "ipython",
    "version": 3
   },
   "file_extension": ".py",
   "mimetype": "text/x-python",
   "name": "python",
   "nbconvert_exporter": "python",
   "pygments_lexer": "ipython3",
   "version": "3.7.7"
  }
 },
 "nbformat": 4,
 "nbformat_minor": 4
}
