{
 "cells": [
  {
   "cell_type": "code",
   "execution_count": 1,
   "metadata": {},
   "outputs": [
    {
     "name": "stderr",
     "output_type": "stream",
     "text": [
      "C:\\Users\\brytni.johnston\\Anaconda3\\lib\\site-packages\\ipykernel_launcher.py:4: ParserWarning: Falling back to the 'python' engine because the 'c' engine does not support regex separators (separators > 1 char and different from '\\s+' are interpreted as regex); you can avoid this warning by specifying engine='python'.\n",
      "  after removing the cwd from sys.path.\n"
     ]
    }
   ],
   "source": [
    "import numpy as np\n",
    "import pandas as pd\n",
    "\n",
    "field_rules = pd.read_csv('day16input.txt',dtype=str,delimiter=' or ',header=None,nrows=20)\n",
    "field_rules = pd.concat([field_rules[0].str.split(': ',expand=True),field_rules[1]],axis=1)\n",
    "field_rules.columns = ['Rule','Interval1','Interval2']\n",
    "\n",
    "my_ticket = np.array(pd.read_csv('day16input.txt',dtype=int,delimiter=',',header=None,skiprows=22,nrows=1))[0]\n",
    "nearby_tickets = pd.read_csv('day16input.txt',dtype=int,delimiter=',',header=None,skiprows=25)"
   ]
  },
  {
   "cell_type": "code",
   "execution_count": 2,
   "metadata": {},
   "outputs": [
    {
     "name": "stdout",
     "output_type": "stream",
     "text": [
      "27870\n"
     ]
    }
   ],
   "source": [
    "#Part 1: What is the sum of values which are invalid for all fields?\n",
    "\n",
    "values = set([])\n",
    "for i in field_rules.index:\n",
    "    for j in np.arange(int(field_rules.loc[i,'Interval1'][:2]),int(field_rules.loc[i,'Interval1'][3:])+1):\n",
    "        values.add(j)\n",
    "    for k in np.arange(int(field_rules.loc[i,'Interval2'][:3]),int(field_rules.loc[i,'Interval2'][4:])+1):\n",
    "        values.add(k)\n",
    "\n",
    "total_invalid = 0\n",
    "invalid_rows = set([])\n",
    "\n",
    "for i in nearby_tickets.index:\n",
    "    for j in nearby_tickets.columns:\n",
    "        if nearby_tickets.loc[i,j] not in values:\n",
    "            invalid_rows.add(i)\n",
    "            total_invalid += nearby_tickets.loc[i,j]\n",
    "\n",
    "print(total_invalid)"
   ]
  },
  {
   "cell_type": "code",
   "execution_count": 3,
   "metadata": {},
   "outputs": [
    {
     "name": "stdout",
     "output_type": "stream",
     "text": [
      "3173135507987.0\n"
     ]
    }
   ],
   "source": [
    "#Part 2: Identify which fields are which and multiply the fields with \"departure\" together on your ticket\n",
    "\n",
    "nearby_tickets.drop(index=list(invalid_rows),inplace=True)\n",
    "nearby_tickets.loc['mytick'] = my_ticket\n",
    "\n",
    "field_values = {}\n",
    "\n",
    "for i in field_rules.index:\n",
    "    values = set([])\n",
    "    for j in np.arange(int(field_rules.loc[i,'Interval1'][:2]),int(field_rules.loc[i,'Interval1'][3:])+1):\n",
    "        values.add(j)\n",
    "    for k in np.arange(int(field_rules.loc[i,'Interval2'][:3]),int(field_rules.loc[i,'Interval2'][4:])+1):\n",
    "        values.add(k)\n",
    "    field_values[field_rules.loc[i,'Rule']] = values\n",
    "\n",
    "potential_fields = {0:[],1:[],2:[],3:[],4:[],5:[],6:[],7:[],8:[],9:[],10:[],11:[],12:[],13:[],14:[],15:[],16:[],17:[],18:[],19:[]}\n",
    "\n",
    "for i in nearby_tickets.columns:\n",
    "    for j in field_values.keys():\n",
    "        if nearby_tickets[i].isin(field_values[j]).all():\n",
    "            potential_fields[i].append(j)\n",
    "\n",
    "logic = pd.DataFrame(index=field_values.keys(),columns=nearby_tickets.columns)\n",
    "for i in field_values.keys():\n",
    "    for j in potential_fields.keys():\n",
    "        if i not in potential_fields[j]:\n",
    "            logic.loc[i,j] = 0\n",
    "\n",
    "keys = {}           \n",
    "\n",
    "while len(keys.keys()) < 19:\n",
    "    for i in logic.index:\n",
    "        if (logic.loc[i] == 0).any():\n",
    "            if logic.loc[i].value_counts()[0] == len(logic.columns) - 1:\n",
    "                col = logic.columns[np.where(logic.loc[i] != 0)[0][0]]\n",
    "                keys[col] = i\n",
    "                logic.drop(index=i,columns=col,inplace=True)\n",
    "            \n",
    "    for j in logic.columns:\n",
    "        if (logic[j] == 0).any():\n",
    "            if logic[j].value_counts()[0] == len(logic.index) - 1:\n",
    "                row = logic.index[np.where(logic[j] != 0)[0][0]]\n",
    "                keys[j] = row\n",
    "                logic.drop(index=row,columns=j,inplace=True)    \n",
    "                \n",
    "keys[logic.columns[0]] = logic.index[0]\n",
    "dep_keys = [i for i in keys.keys() if 'departure' in keys[i]]\n",
    "\n",
    "print(np.prod(my_ticket[dep_keys],dtype=np.float64))"
   ]
  },
  {
   "cell_type": "code",
   "execution_count": null,
   "metadata": {},
   "outputs": [],
   "source": []
  }
 ],
 "metadata": {
  "kernelspec": {
   "display_name": "Python 3",
   "language": "python",
   "name": "python3"
  },
  "language_info": {
   "codemirror_mode": {
    "name": "ipython",
    "version": 3
   },
   "file_extension": ".py",
   "mimetype": "text/x-python",
   "name": "python",
   "nbconvert_exporter": "python",
   "pygments_lexer": "ipython3",
   "version": "3.7.7"
  }
 },
 "nbformat": 4,
 "nbformat_minor": 4
}
