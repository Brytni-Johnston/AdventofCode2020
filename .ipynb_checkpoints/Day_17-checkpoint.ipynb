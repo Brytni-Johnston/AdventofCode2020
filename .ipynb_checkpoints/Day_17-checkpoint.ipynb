{
 "cells": [
  {
   "cell_type": "code",
   "execution_count": 1,
   "metadata": {},
   "outputs": [],
   "source": [
    "import numpy as np\n",
    "import pandas as pd\n",
    "import itertools\n",
    "\n",
    "data = np.loadtxt('day17input.txt',dtype=str,comments=None)\n",
    "data = np.array([list(i) for i in data])"
   ]
  },
  {
   "cell_type": "code",
   "execution_count": 2,
   "metadata": {},
   "outputs": [
    {
     "name": "stdout",
     "output_type": "stream",
     "text": [
      "230\n"
     ]
    }
   ],
   "source": [
    "#Part 1: How many spaces are active after six cycles?\n",
    "\n",
    "cycles = 6\n",
    "space = np.zeros((2*cycles+1,len(data)+2*cycles,len(data[0])+2*cycles)) # z,y,x\n",
    "space = np.full_like(space,'.',str)\n",
    "space[cycles,cycles:-1*cycles,cycles:-1*cycles] = data\n",
    "\n",
    "s= [['U','D','X'],['N','S','X'],['E','W','X']]\n",
    "Dir = [''.join(list(i)) for i in itertools.product(*s)][:-1]\n",
    "\n",
    "intervals = {'N':1,'S':-1,'E':1,'W':-1,'U':1,'D':-1,'X':0}\n",
    "\n",
    "for c in np.arange(cycles):\n",
    "    prev = np.empty_like(space) \n",
    "    prev[:,:,:] = space\n",
    "    for i in np.arange(space.shape[0]):\n",
    "        for j in np.arange(space.shape[1]):\n",
    "            for k in np.arange(space.shape[2]):\n",
    "                actives = 0\n",
    "                for l in Dir:\n",
    "                    new = '.'\n",
    "\n",
    "                    new_i = i + intervals[l[0]]\n",
    "                    new_j = j + intervals[l[1]]\n",
    "                    new_k = k + intervals[l[2]]\n",
    "                    \n",
    "                    if (0 <= new_i < space.shape[0]) and (0 <= new_j < space.shape[1]) and (0 <= new_k < space.shape[2]):\n",
    "                        new = prev[new_i,new_j,new_k]\n",
    "                    if new == '#':\n",
    "                        actives += 1\n",
    "\n",
    "                if prev[i,j,k] == '#':\n",
    "                    if (actives != 2) and (actives != 3):\n",
    "                        space[i,j,k] = '.'\n",
    "                else:\n",
    "                    if actives == 3:\n",
    "                        space[i,j,k] = '#'  \n",
    "                    \n",
    "print(np.count_nonzero(space == '#'))"
   ]
  },
  {
   "cell_type": "code",
   "execution_count": 3,
   "metadata": {},
   "outputs": [
    {
     "name": "stdout",
     "output_type": "stream",
     "text": [
      "1600\n"
     ]
    }
   ],
   "source": [
    "#Part 2: How many spaces are active after six cycles, but in 4 dimensions?\n",
    "\n",
    "space = np.zeros((2*cycles+1,2*cycles+1,len(data)+2*cycles,len(data[0])+2*cycles)) # ,omega,z,y,x\n",
    "space = np.full_like(space,'.',str)\n",
    "space[cycles,cycles:-1*cycles,cycles:-1*cycles,cycles:-1*cycles] = data\n",
    "\n",
    "\n",
    "s= [['F','P','X'],['U','D','X'],['N','S','X'],['E','W','X']]\n",
    "Dir = [''.join(list(i)) for i in itertools.product(*s)][:-1]\n",
    "\n",
    "intervals = {'N':1,'S':-1,'E':1,'W':-1,'U':1,'D':-1,'F':1,'P':-1,'X':0}\n",
    "\n",
    "for c in np.arange(cycles):\n",
    "    prev = np.empty_like(space) \n",
    "    prev[:,:,:] = space\n",
    "    for i in np.arange(space.shape[0]):\n",
    "        for j in np.arange(space.shape[1]):\n",
    "            for k in np.arange(space.shape[2]):\n",
    "                for l in np.arange(space.shape[3]):\n",
    "                    actives = 0\n",
    "                    for m in Dir:\n",
    "                        new = '.'\n",
    "\n",
    "                        new_i = i + intervals[m[0]]\n",
    "                        new_j = j + intervals[m[1]]\n",
    "                        new_k = k + intervals[m[2]]\n",
    "                        new_l = l + intervals[m[3]]\n",
    "\n",
    "                        if (0 <= new_i < space.shape[0]) and (0 <= new_j < space.shape[1]):\n",
    "                            if (0 <= new_k < space.shape[2]) and (0 <= new_l < space.shape[3]):\n",
    "                                new = prev[new_i,new_j,new_k,new_l]\n",
    "                        if new == '#':\n",
    "                            actives += 1\n",
    "\n",
    "                    if prev[i,j,k,l] == '#':\n",
    "                        if (actives != 2) and (actives != 3):\n",
    "                            space[i,j,k,l] = '.'\n",
    "                    else:\n",
    "                        if actives == 3:\n",
    "                            space[i,j,k,l] = '#'  \n",
    "                    \n",
    "print(np.count_nonzero(space == '#'))"
   ]
  },
  {
   "cell_type": "code",
   "execution_count": null,
   "metadata": {},
   "outputs": [],
   "source": []
  }
 ],
 "metadata": {
  "kernelspec": {
   "display_name": "Python 3",
   "language": "python",
   "name": "python3"
  },
  "language_info": {
   "codemirror_mode": {
    "name": "ipython",
    "version": 3
   },
   "file_extension": ".py",
   "mimetype": "text/x-python",
   "name": "python",
   "nbconvert_exporter": "python",
   "pygments_lexer": "ipython3",
   "version": "3.7.7"
  }
 },
 "nbformat": 4,
 "nbformat_minor": 4
}
