{
 "cells": [
  {
   "cell_type": "code",
   "execution_count": 1,
   "metadata": {},
   "outputs": [],
   "source": [
    "from itertools import groupby\n",
    "import numpy as np\n",
    "import pandas as pd\n",
    "import networkx as nx\n",
    "from networkx.algorithms import isomorphism\n",
    "import matplotlib.pyplot as plt\n",
    "import re\n",
    "\n",
    "edges = pd.DataFrame(columns=['Top','Right','Bottom','Left'])\n",
    "full_tiles = {}\n",
    "\n",
    "with open('day20input.txt') as f_data:    \n",
    "    for k, g in groupby(f_data, lambda x: x.startswith('T')):\n",
    "        if not k:\n",
    "            tile = np.array([[str(x) for x in d.split()] for d in g if len(d.strip())])\n",
    "            full_tiles[tile_num] = np.array([np.array([i for i in j[0]]) for j in tile])\n",
    "            edges.loc[tile_num,'Top'] = tile[0][0]\n",
    "            edges.loc[tile_num,'Bottom'] = tile[-1][0]\n",
    "            edges.loc[tile_num,'Left'] = ''.join([i[0][0] for i in tile])\n",
    "            edges.loc[tile_num,'Right'] = ''.join([i[0][-1] for i in tile])\n",
    "        else:\n",
    "            tile_num = [i for i in g][0][-6:-2]\n",
    "            edges.loc[tile_num] = 0\n",
    "\n",
    "for i in edges.columns:\n",
    "    edges[i+'_f'] = edges[i].str[::-1]"
   ]
  },
  {
   "cell_type": "code",
   "execution_count": 2,
   "metadata": {},
   "outputs": [
    {
     "name": "stdout",
     "output_type": "stream",
     "text": [
      "18411576553343\n"
     ]
    }
   ],
   "source": [
    "#Part 1: What is the value of the product of the four corners' tile numbers?\n",
    "\n",
    "counts = edges.stack().value_counts()\n",
    "Unique = pd.Series(index=edges.index,data=0)\n",
    "\n",
    "for i in edges.index:\n",
    "    for j in edges.columns:\n",
    "        if counts[edges.loc[i,j]] == 1:\n",
    "            Unique[i] += 1\n",
    "            \n",
    "print(np.prod(Unique[Unique == 4].index.astype(int)))"
   ]
  },
  {
   "cell_type": "code",
   "execution_count": 3,
   "metadata": {},
   "outputs": [
    {
     "name": "stdout",
     "output_type": "stream",
     "text": [
      "2002\n"
     ]
    }
   ],
   "source": [
    "#Part 2: How many #s are in the water apart from the sea monsters?\n",
    "\n",
    "G = nx.Graph()\n",
    "node_list = list(edges.index)\n",
    "edge_list = []\n",
    "for i in edges.stack().unique():\n",
    "    if len(np.where(edges == i)[0]) == 2:\n",
    "        edge_list.append((edges.index[np.where(edges == i)[0][0]],edges.index[np.where(edges == i)[0][1]]))\n",
    "G.add_nodes_from(node_list)\n",
    "G.add_edges_from(edge_list)\n",
    "\n",
    "Layout = np.zeros((12,12))\n",
    "\n",
    "H = nx.grid_2d_graph(12,12)\n",
    "GM = isomorphism.GraphMatcher(G,H)\n",
    "GM.is_isomorphic()\n",
    "for i in GM.mapping.keys():\n",
    "    Layout[GM.mapping[i][0],GM.mapping[i][1]] = i\n",
    "    \n",
    "Layout = Layout.astype(int).astype(str)\n",
    "\n",
    "Corner1 = Layout[0,0]\n",
    "next_piece = Layout[0,1]\n",
    "next_edges = list(edges.loc[next_piece])\n",
    "while counts[''.join(full_tiles[Corner1][0])] + counts[''.join(full_tiles[Corner1][:,0])] > 2:\n",
    "    full_tiles[Corner1] = np.rot90(full_tiles[Corner1])\n",
    "if ''.join(full_tiles[Corner1][:,-1]) not in next_edges:\n",
    "    full_tiles[Corner1] = np.rot90(np.flip(full_tiles[Corner1],axis = 1))\n",
    "    \n",
    "for i in np.arange(1,12):\n",
    "    L_connect = ''.join([j[-1] for j in full_tiles[Layout[0,i-1]]])\n",
    "    \n",
    "    for j in np.arange(3):\n",
    "        if L_connect != ''.join([j[0] for j in full_tiles[Layout[0,i]]]):\n",
    "            full_tiles[Layout[0,i]] = np.rot90(full_tiles[Layout[0,i]])\n",
    "\n",
    "    if L_connect != ''.join([j[0] for j in full_tiles[Layout[0,i]]]):\n",
    "        full_tiles[Layout[0,i]] = np.flip(full_tiles[Layout[0,i]],axis = 1)\n",
    "\n",
    "    for j in np.arange(3):\n",
    "        if L_connect != ''.join([j[0] for j in full_tiles[Layout[0,i]]]):\n",
    "            full_tiles[Layout[0,i]] = np.rot90(full_tiles[Layout[0,i]])\n",
    "                \n",
    "for i in np.arange(1,12):\n",
    "    for j in np.arange(12):\n",
    "        U_connect = ''.join(full_tiles[Layout[i-1,j]][-1])\n",
    "        \n",
    "        for k in np.arange(3):\n",
    "            if U_connect != ''.join(full_tiles[Layout[i,j]][0]):\n",
    "                full_tiles[Layout[i,j]] = np.rot90(full_tiles[Layout[i,j]])\n",
    "\n",
    "        if U_connect != ''.join(full_tiles[Layout[i,j]][0]):\n",
    "            full_tiles[Layout[i,j]] = np.flip(full_tiles[Layout[i,j]],axis = 1)\n",
    "\n",
    "        for k in np.arange(3):\n",
    "            if U_connect != ''.join(full_tiles[Layout[i,j]][0]):\n",
    "                full_tiles[Layout[i,j]] = np.rot90(full_tiles[Layout[i,j]])\n",
    "                \n",
    "full_puzzle = np.zeros((96,96)).astype(str)\n",
    "\n",
    "for i in np.arange(12):\n",
    "    for j in np.arange(12):\n",
    "        full_puzzle[8*i:8*i+8,8*j:8*j+8] = full_tiles[Layout[i,j]][1:-1,1:-1]\n",
    "        \n",
    "full_puzzle[full_puzzle == '.'] = 0\n",
    "full_puzzle[full_puzzle == '#'] = 1\n",
    "monsters = []\n",
    "\n",
    "for i in np.arange(4):\n",
    "    total1 = 0\n",
    "    total2 = 0\n",
    "    for i in np.arange(96):\n",
    "        total1 += len(re.findall('(1(0|1){4}1){3}11', ''.join(full_puzzle[i])))\n",
    "        total2 += len(re.findall('(1(0|1){2}){5}1', ''.join(full_puzzle[i])))\n",
    "    full_puzzle = np.rot90(full_puzzle)\n",
    "    monsters.append(min(total1,total2))\n",
    "    \n",
    "full_puzzle = np.flip(full_puzzle,axis=1)\n",
    "for i in np.arange(4):\n",
    "    total1 = 0\n",
    "    total2 = 0\n",
    "    for i in np.arange(96):\n",
    "        total1 += len(re.findall('(1(0|1){4}1){3}11', ''.join(full_puzzle[i])))\n",
    "        total2 += len(re.findall('(1(0|1){2}){5}1', ''.join(full_puzzle[i])))\n",
    "    full_puzzle = np.rot90(full_puzzle)\n",
    "    monsters.append(min(total1,total2))\n",
    "    \n",
    "print(full_puzzle.astype(int).sum() - max(monsters)*15)"
   ]
  },
  {
   "cell_type": "code",
   "execution_count": null,
   "metadata": {},
   "outputs": [],
   "source": []
  }
 ],
 "metadata": {
  "kernelspec": {
   "display_name": "Python 3",
   "language": "python",
   "name": "python3"
  },
  "language_info": {
   "codemirror_mode": {
    "name": "ipython",
    "version": 3
   },
   "file_extension": ".py",
   "mimetype": "text/x-python",
   "name": "python",
   "nbconvert_exporter": "python",
   "pygments_lexer": "ipython3",
   "version": "3.7.7"
  }
 },
 "nbformat": 4,
 "nbformat_minor": 4
}
