{
 "cells": [
  {
   "cell_type": "code",
   "execution_count": 1,
   "metadata": {},
   "outputs": [],
   "source": [
    "from itertools import groupby\n",
    "import numpy as np\n",
    "import pandas as pd\n",
    "import re\n",
    "\n",
    "ingredients = []\n",
    "allergens = []\n",
    "\n",
    "with open('day21input.txt') as f_data:    \n",
    "    for k, g in groupby(f_data, lambda x: x.endswith(')')):\n",
    "        data = [[str(x) for x in d.split()] for d in g if len(d.strip())]\n",
    "\n",
    "for i in data:\n",
    "    index = np.where(np.array([j[0] for j in i]) == '(')[0][0]\n",
    "    ingredients.append(i[:index])\n",
    "    allergens_list = i[index+1:-1]\n",
    "    allergens_list.append(i[-1].replace(')',''))\n",
    "    allergens.append(allergens_list)\n",
    "    \n",
    "allergens = [[i.replace(',','') for i in j] for j in allergens]"
   ]
  },
  {
   "cell_type": "code",
   "execution_count": 2,
   "metadata": {},
   "outputs": [
    {
     "name": "stdout",
     "output_type": "stream",
     "text": [
      "2324\n"
     ]
    },
    {
     "name": "stderr",
     "output_type": "stream",
     "text": [
      "C:\\Users\\brytni.johnston\\Anaconda3\\lib\\site-packages\\ipykernel_launcher.py:7: VisibleDeprecationWarning: Creating an ndarray from ragged nested sequences (which is a list-or-tuple of lists-or-tuples-or ndarrays with different lengths or shapes) is deprecated. If you meant to do this, you must specify 'dtype=object' when creating the ndarray\n",
      "  import sys\n"
     ]
    }
   ],
   "source": [
    "#Part 1: How many listed ingredients could not be a possible allergen?\n",
    "\n",
    "unique_allerg = list(set(x for l in allergens for x in l))\n",
    "possible_ingr = {}\n",
    "all_possible_ingr = set()\n",
    "for i in unique_allerg:\n",
    "    sets = list(np.array(ingredients)[[(i in j) for j in allergens]])\n",
    "    possible_ingr[i] = set(sets[0]).intersection(*sets[1:])\n",
    "    all_possible_ingr = all_possible_ingr.union(possible_ingr[i])\n",
    "    \n",
    "total = 0\n",
    "for i in ingredients:\n",
    "    for j in i:\n",
    "        if j not in all_possible_ingr:\n",
    "            total += 1\n",
    "            \n",
    "print(total)"
   ]
  },
  {
   "cell_type": "code",
   "execution_count": 3,
   "metadata": {},
   "outputs": [
    {
     "name": "stdout",
     "output_type": "stream",
     "text": [
      "bxjvzk,hqgqj,sp,spl,hsksz,qzzzf,fmpgn,tpnnkc\n"
     ]
    }
   ],
   "source": [
    "#Part 2: Which ingredient is for which allergen? List the ingredients in alphabetical order by allergen.\n",
    "\n",
    "logic = pd.DataFrame(index = all_possible_ingr, columns = unique_allerg)\n",
    "\n",
    "for i in logic.index:\n",
    "    for j in logic.columns:\n",
    "        if i not in possible_ingr[j]:\n",
    "            logic.loc[i,j] = 0\n",
    "            \n",
    "keys = {}           \n",
    "\n",
    "while len(keys.keys()) < 7:\n",
    "    for i in logic.index:\n",
    "        if (logic.loc[i] == 0).any():\n",
    "            if logic.loc[i].value_counts()[0] == len(logic.columns) - 1:\n",
    "                col = logic.columns[np.where(logic.loc[i] != 0)[0][0]]\n",
    "                keys[col] = i\n",
    "                logic.drop(index=i,columns=col,inplace=True)\n",
    "            \n",
    "    for j in logic.columns:\n",
    "        if (logic[j] == 0).any():\n",
    "            if logic[j].value_counts()[0] == len(logic.index) - 1:\n",
    "                row = logic.index[np.where(logic[j] != 0)[0][0]]\n",
    "                keys[j] = row\n",
    "                logic.drop(index=row,columns=j,inplace=True)    \n",
    "                \n",
    "keys[logic.columns[0]] = logic.index[0]\n",
    "print(''.join([j + ',' for j in [keys[i] for i in np.sort(list(keys.keys()))]])[:-1])"
   ]
  },
  {
   "cell_type": "code",
   "execution_count": null,
   "metadata": {},
   "outputs": [],
   "source": []
  }
 ],
 "metadata": {
  "kernelspec": {
   "display_name": "Python 3",
   "language": "python",
   "name": "python3"
  },
  "language_info": {
   "codemirror_mode": {
    "name": "ipython",
    "version": 3
   },
   "file_extension": ".py",
   "mimetype": "text/x-python",
   "name": "python",
   "nbconvert_exporter": "python",
   "pygments_lexer": "ipython3",
   "version": "3.7.7"
  }
 },
 "nbformat": 4,
 "nbformat_minor": 4
}
