{
 "cells": [
  {
   "cell_type": "code",
   "execution_count": 1,
   "metadata": {},
   "outputs": [],
   "source": [
    "import numpy as np\n",
    "from itertools import cycle\n",
    "\n",
    "labels = [int(i) for i in '215694783']\n",
    "pool = cycle(labels)\n",
    "iterations = 100"
   ]
  },
  {
   "cell_type": "code",
   "execution_count": 2,
   "metadata": {},
   "outputs": [
    {
     "name": "stdout",
     "output_type": "stream",
     "text": [
      "46978532\n"
     ]
    }
   ],
   "source": [
    "#Part 1: What is the arrangement of the cups, excluding #1, after 100 moves?\n",
    "\n",
    "for i in np.arange(iterations):\n",
    "    current_cup = next(pool)\n",
    "    lifted_cups = [next(pool),next(pool),next(pool)]\n",
    "    remaining = [x for x in labels if x not in lifted_cups]\n",
    "    if len([v for v in remaining if v < current_cup]) > 0:\n",
    "        destination_cup = max(v for v in remaining if v < current_cup)\n",
    "    else:\n",
    "        destination_cup = max(v for v in remaining if v != current_cup)\n",
    "    for i in np.arange(3):\n",
    "        remaining.insert(remaining.index(destination_cup)+i+1,lifted_cups[i])\n",
    "    remaining.append(remaining.pop(0))\n",
    "    pool = cycle(remaining)\n",
    "    labels = remaining\n",
    "    \n",
    "while labels[0] != 1:\n",
    "    labels.append(labels.pop(0))\n",
    "    \n",
    "print(''.join([str(i) for i in labels[1:]]))"
   ]
  },
  {
   "cell_type": "code",
   "execution_count": 51,
   "metadata": {},
   "outputs": [
    {
     "name": "stdout",
     "output_type": "stream",
     "text": [
      "163035127721\n",
      "Wall time: 50.5 s\n"
     ]
    }
   ],
   "source": [
    "%%time\n",
    "\n",
    "#Part 2: Same thing, but a million cups and 10 million turns. Then find product of two cups after 1.\n",
    "\n",
    "initial = '215694783'\n",
    "cups = 1000000\n",
    "turns = 10000000\n",
    "cw = {} #clockwise\n",
    "ccw = {} #counter-clockwise\n",
    "\n",
    "ccw[initial[0]] = cups\n",
    "for i in np.arange(len(initial)-1):\n",
    "    cw[int(initial[i])] = int(initial[i+1])\n",
    "    ccw[int(initial[i+1])] = int(initial[i])\n",
    "\n",
    "ccw[10] = int(initial[-1])\n",
    "cw[int(initial[-1])] = 10\n",
    "\n",
    "for i in np.arange(10,cups):\n",
    "    cw[i] = i+1\n",
    "    ccw[i+1] = i\n",
    "    \n",
    "cw[cups] = int(initial[0])\n",
    "current = int(initial[0])\n",
    "\n",
    "for i in np.arange(turns):\n",
    "    lifted1 = cw[current]\n",
    "    lifted2 = cw[lifted1]\n",
    "    lifted3 = cw[lifted2]\n",
    "\n",
    "    destination = current\n",
    "    while True:\n",
    "        destination -= 1\n",
    "        if destination > 0:\n",
    "            if destination not in [lifted1,lifted2,lifted3]:\n",
    "                break\n",
    "        else:\n",
    "            destination = cups\n",
    "            if destination not in [lifted1,lifted2,lifted3]:\n",
    "                break\n",
    "\n",
    "    split = cw[destination]\n",
    "    fourth = cw[lifted3]\n",
    "    \n",
    "    cw[destination] = lifted1\n",
    "    ccw[lifted1] = destination\n",
    "    \n",
    "    cw[current] = fourth\n",
    "    ccw[fourth] = current\n",
    "    \n",
    "    cw[lifted3] = split\n",
    "    ccw[split] = lifted3\n",
    "    \n",
    "    current = cw[current]\n",
    "    \n",
    "one = cw[1]\n",
    "two = cw[one]\n",
    "print(np.int64(np.int64(one)*np.int64(two)))"
   ]
  },
  {
   "cell_type": "code",
   "execution_count": null,
   "metadata": {},
   "outputs": [],
   "source": []
  }
 ],
 "metadata": {
  "kernelspec": {
   "display_name": "Python 3",
   "language": "python",
   "name": "python3"
  },
  "language_info": {
   "codemirror_mode": {
    "name": "ipython",
    "version": 3
   },
   "file_extension": ".py",
   "mimetype": "text/x-python",
   "name": "python",
   "nbconvert_exporter": "python",
   "pygments_lexer": "ipython3",
   "version": "3.7.7"
  }
 },
 "nbformat": 4,
 "nbformat_minor": 4
}
