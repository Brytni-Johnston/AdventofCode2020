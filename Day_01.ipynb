{
 "cells": [
  {
   "cell_type": "code",
   "execution_count": 1,
   "metadata": {},
   "outputs": [],
   "source": [
    "import numpy as np\n",
    "from itertools import combinations\n",
    "\n",
    "nums = np.loadtxt('day01input.txt')"
   ]
  },
  {
   "cell_type": "code",
   "execution_count": 2,
   "metadata": {},
   "outputs": [
    {
     "name": "stdout",
     "output_type": "stream",
     "text": [
      "866436.0\n"
     ]
    }
   ],
   "source": [
    "#Part 1: find the two numbers which add up to 2020 and give their product\n",
    "\n",
    "for i in nums:\n",
    "    match = 2020 - i\n",
    "    if match in nums:\n",
    "        print(i*match)\n",
    "        break"
   ]
  },
  {
   "cell_type": "code",
   "execution_count": 3,
   "metadata": {},
   "outputs": [
    {
     "name": "stdout",
     "output_type": "stream",
     "text": [
      "276650720.0\n"
     ]
    }
   ],
   "source": [
    "#Part 2: find the three numbers which add up to 2020 and give their product\n",
    "\n",
    "nums = np.sort(nums)\n",
    "nums = np.delete(nums, np.argwhere(nums > (2020-nums[0]-nums[1])))\n",
    "combs = [i for i in combinations(nums,3)]\n",
    "print(np.prod(combs[np.array(np.where(np.sum(combs,axis=1)==2020))[0][0]]))"
   ]
  },
  {
   "cell_type": "code",
   "execution_count": null,
   "metadata": {},
   "outputs": [],
   "source": []
  }
 ],
 "metadata": {
  "kernelspec": {
   "display_name": "Python 3",
   "language": "python",
   "name": "python3"
  },
  "language_info": {
   "codemirror_mode": {
    "name": "ipython",
    "version": 3
   },
   "file_extension": ".py",
   "mimetype": "text/x-python",
   "name": "python",
   "nbconvert_exporter": "python",
   "pygments_lexer": "ipython3",
   "version": "3.7.7"
  }
 },
 "nbformat": 4,
 "nbformat_minor": 4
}
