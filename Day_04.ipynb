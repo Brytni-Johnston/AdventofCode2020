{
 "cells": [
  {
   "cell_type": "code",
   "execution_count": 1,
   "metadata": {},
   "outputs": [],
   "source": [
    "import numpy as np\n",
    "import pandas as pd\n",
    "\n",
    "data = pd.read_csv('day04input.txt',dtype=str,comment=None,skip_blank_lines=False,header=None)"
   ]
  },
  {
   "cell_type": "code",
   "execution_count": 2,
   "metadata": {},
   "outputs": [
    {
     "name": "stdout",
     "output_type": "stream",
     "text": [
      "245\n"
     ]
    }
   ],
   "source": [
    "#Part 1: how many passports contain all 7 valid fields?\n",
    "\n",
    "fields = ['byr','iyr','eyr','hgt','hcl','ecl','pid']\n",
    "pports = []\n",
    "string = ''\n",
    "\n",
    "for i in data.index:\n",
    "    if data.loc[i].notna().item():\n",
    "        string += ' '+data.loc[i].item()\n",
    "    else:\n",
    "        pports.append(string)\n",
    "        string = ''\n",
    "pports.append(string)        \n",
    "        \n",
    "print(sum(np.array([[j in pports[i] for j in fields] for i in np.arange(len(pports))]).sum(axis=1) == 7))"
   ]
  },
  {
   "cell_type": "code",
   "execution_count": 3,
   "metadata": {},
   "outputs": [],
   "source": [
    "#Part 2: Data Validation: How many passports contain all 7 fields and have valid data?\n",
    "\n",
    "eyecolors=['amb', 'blu', 'brn', 'gry', 'grn', 'hzl', 'oth']\n",
    "\n",
    "pports = np.array(pports)[(np.array([[j in pports[i] for j in fields] for i in np.arange(len(pports))]).sum(axis=1) == 7)]\n",
    "pports = pd.Series(data=pports)\n",
    "pports = pd.DataFrame(data=[sorted(i) for i in pports.str.split(' ')]).drop(columns=[0])\n",
    "pports[pports[8].notna()] = pports[pports[8].notna()].iloc[:, [0,2,3,4,5,6,7,1]]\n",
    "pports.columns=['byr','ecl','eyr','hcl','hgt','iyr','pid','cid']\n",
    "for i in pports.columns:\n",
    "    pports[i] = pports[i].str[4:]\n",
    "pports['hgt_unit'] = pports['hgt'].str[-2:]\n",
    "pports['hgt'] = pports['hgt'].str[:-2]\n",
    "pports.drop(columns=['cid'],inplace=True)\n",
    "pports = pports[pports['byr'].astype(int)>=1920]\n",
    "pports = pports[pports['byr'].astype(int)<=2002]\n",
    "pports = pports[pports['eyr'].astype(int)>=2020]\n",
    "pports = pports[pports['eyr'].astype(int)<=2030]\n",
    "pports = pports[pports['iyr'].astype(int)>=2010]\n",
    "pports = pports[pports['iyr'].astype(int)<=2020]\n",
    "pports = pports.loc[[(i in eyecolors) for i in pports['ecl']]]\n",
    "pports = pports[pports['hgt_unit'].str.contains('in|cm')]\n",
    "pports = pports[pports['pid'].str.len()==9]\n",
    "pports = pports[pports['pid'].str.contains(\"^\\d+$\")]\n",
    "pports = pports[pports['hcl'].str[0] == '#']\n",
    "pports = pports[pports['hcl'].str.len()==7]\n",
    "pports = pports[pports['hcl'].str[1:].str.contains('^[a-f0-9]+$')]\n",
    "pports.drop(index=pports[pports['hgt_unit']=='cm'][pports[pports['hgt_unit']=='cm']['hgt'].astype(float)>193].index,inplace=True)\n",
    "pports.drop(index=pports[pports['hgt_unit']=='cm'][pports[pports['hgt_unit']=='cm']['hgt'].astype(float)<150].index,inplace=True)\n",
    "pports.drop(index=pports[pports['hgt_unit']=='in'][pports[pports['hgt_unit']=='in']['hgt'].astype(float)>76].index,inplace=True)\n",
    "pports.drop(index=pports[pports['hgt_unit']=='in'][pports[pports['hgt_unit']=='in']['hgt'].astype(float)<59].index,inplace=True)"
   ]
  },
  {
   "cell_type": "code",
   "execution_count": 5,
   "metadata": {},
   "outputs": [
    {
     "name": "stdout",
     "output_type": "stream",
     "text": [
      "133\n"
     ]
    }
   ],
   "source": [
    "print(len(pports))"
   ]
  },
  {
   "cell_type": "code",
   "execution_count": null,
   "metadata": {},
   "outputs": [],
   "source": []
  }
 ],
 "metadata": {
  "kernelspec": {
   "display_name": "Python 3",
   "language": "python",
   "name": "python3"
  },
  "language_info": {
   "codemirror_mode": {
    "name": "ipython",
    "version": 3
   },
   "file_extension": ".py",
   "mimetype": "text/x-python",
   "name": "python",
   "nbconvert_exporter": "python",
   "pygments_lexer": "ipython3",
   "version": "3.7.7"
  }
 },
 "nbformat": 4,
 "nbformat_minor": 4
}
