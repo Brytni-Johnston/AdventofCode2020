{
 "cells": [
  {
   "cell_type": "code",
   "execution_count": 1,
   "metadata": {},
   "outputs": [],
   "source": [
    "import numpy as np\n",
    "import pandas as pd\n",
    "import matplotlib.pyplot as plt\n",
    "\n",
    "data = pd.read_csv('day05input.txt',dtype=str,header=None)"
   ]
  },
  {
   "cell_type": "code",
   "execution_count": 2,
   "metadata": {},
   "outputs": [
    {
     "name": "stdout",
     "output_type": "stream",
     "text": [
      "926\n"
     ]
    }
   ],
   "source": [
    "#Part 1: Find maximum seat ID by calculating row and column values\n",
    "\n",
    "data['row_key'] = data[0].str[:7]\n",
    "data['column_key'] = data[0].str[7:]\n",
    "data.drop(columns=[0],inplace=True)\n",
    "data['row_key'] = data['row_key'].str.replace('B','1').str.replace('F','0')\n",
    "data['column_key'] = data['column_key'].str.replace('R','1').str.replace('L','0')\n",
    "data['row'] = [int(i,base=2) for i in data['row_key']]\n",
    "data['column'] = [int(i,base=2) for i in data['column_key']]\n",
    "data['seat_ID'] = data['row']*8 + data['column']\n",
    "print(data['seat_ID'].max())"
   ]
  },
  {
   "cell_type": "code",
   "execution_count": 3,
   "metadata": {},
   "outputs": [
    {
     "data": {
      "text/plain": [
       "<matplotlib.collections.PathCollection at 0x1382cbd76c8>"
      ]
     },
     "execution_count": 3,
     "metadata": {},
     "output_type": "execute_result"
    },
    {
     "data": {
      "image/png": "[encoded data removed]",
      "text/plain": [
       "<Figure size 432x288 with 1 Axes>"
      ]
     },
     "metadata": {
      "needs_background": "light"
     },
     "output_type": "display_data"
    }
   ],
   "source": [
    "#Part 2: Which seat is yours? Seats at very front and back may not exist!\n",
    "\n",
    "plt.scatter(data.column,data.row,s=0.1)"
   ]
  },
  {
   "cell_type": "code",
   "execution_count": 4,
   "metadata": {},
   "outputs": [
    {
     "data": {
      "text/plain": [
       "115    7\n",
       "82     7\n",
       "85     8\n",
       "110    8\n",
       "109    8\n",
       "      ..\n",
       "11     8\n",
       "34     8\n",
       "114    8\n",
       "33     8\n",
       "61     8\n",
       "Name: row, Length: 106, dtype: int64"
      ]
     },
     "execution_count": 4,
     "metadata": {},
     "output_type": "execute_result"
    }
   ],
   "source": [
    "data['row'].value_counts().sort_values()"
   ]
  },
  {
   "cell_type": "code",
   "execution_count": 5,
   "metadata": {},
   "outputs": [
    {
     "data": {
      "text/plain": [
       "7    105\n",
       "1    105\n",
       "6    106\n",
       "5    106\n",
       "4    106\n",
       "3    106\n",
       "2    106\n",
       "0    106\n",
       "Name: column, dtype: int64"
      ]
     },
     "execution_count": 5,
     "metadata": {},
     "output_type": "execute_result"
    }
   ],
   "source": [
    "data['column'].value_counts().sort_values()"
   ]
  },
  {
   "cell_type": "code",
   "execution_count": 6,
   "metadata": {},
   "outputs": [
    {
     "name": "stdout",
     "output_type": "stream",
     "text": [
      "657\n"
     ]
    }
   ],
   "source": [
    "print(82*8+1)"
   ]
  },
  {
   "cell_type": "code",
   "execution_count": null,
   "metadata": {},
   "outputs": [],
   "source": []
  }
 ],
 "metadata": {
  "kernelspec": {
   "display_name": "Python 3",
   "language": "python",
   "name": "python3"
  },
  "language_info": {
   "codemirror_mode": {
    "name": "ipython",
    "version": 3
   },
   "file_extension": ".py",
   "mimetype": "text/x-python",
   "name": "python",
   "nbconvert_exporter": "python",
   "pygments_lexer": "ipython3",
   "version": "3.7.7"
  }
 },
 "nbformat": 4,
 "nbformat_minor": 4
}
