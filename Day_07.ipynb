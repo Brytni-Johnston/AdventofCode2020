{
 "cells": [
  {
   "cell_type": "code",
   "execution_count": 1,
   "metadata": {},
   "outputs": [],
   "source": [
    "import numpy as np\n",
    "import pandas as pd\n",
    "\n",
    "data = pd.read_csv('day07input.txt',dtype=str,delimiter=' bags contain ',header=None,engine='python')"
   ]
  },
  {
   "cell_type": "code",
   "execution_count": 2,
   "metadata": {},
   "outputs": [
    {
     "name": "stdout",
     "output_type": "stream",
     "text": [
      "235\n"
     ]
    }
   ],
   "source": [
    "#Part 1: How many colors of bags could eventually hold a shiny gold bag?\n",
    "\n",
    "bags = []\n",
    "start = ['shiny gold']\n",
    "\n",
    "def get_bags(colors):\n",
    "    recurse = False\n",
    "    new_colors=[]\n",
    "    for i in colors:\n",
    "        new_bags = data[data[1].str.contains(i)][0].values\n",
    "        for j in new_bags:\n",
    "            if j not in bags:\n",
    "                bags.append(j)\n",
    "                new_colors.append(j)\n",
    "                recurse=True\n",
    "    if recurse == True:\n",
    "        get_bags(new_colors)\n",
    "        \n",
    "get_bags(start)\n",
    "print(len(bags))"
   ]
  },
  {
   "cell_type": "code",
   "execution_count": 3,
   "metadata": {},
   "outputs": [
    {
     "name": "stdout",
     "output_type": "stream",
     "text": [
      "158493\n"
     ]
    }
   ],
   "source": [
    "#Part 2: How many total bags could a shiny gold bag hold?\n",
    "\n",
    "bags = 0\n",
    "start = []\n",
    "\n",
    "def get_bags(color,multiplier):\n",
    "    global bags\n",
    "    recurse = False\n",
    "    new_bags = np.array(data[data[0].str.contains(color)][1].str.replace(' bags','').str.replace(' bag','').str.replace('.','').str.split(', ',expand=True))[0]\n",
    "    if 'no other' not in new_bags:\n",
    "        for j in new_bags:\n",
    "            bags += int(j[0])*multiplier\n",
    "            get_bags(j[2:],multiplier*int(j[0]))\n",
    "get_bags('shiny gold',1)\n",
    "print(bags)"
   ]
  },
  {
   "cell_type": "code",
   "execution_count": null,
   "metadata": {},
   "outputs": [],
   "source": []
  }
 ],
 "metadata": {
  "kernelspec": {
   "display_name": "Python 3",
   "language": "python",
   "name": "python3"
  },
  "language_info": {
   "codemirror_mode": {
    "name": "ipython",
    "version": 3
   },
   "file_extension": ".py",
   "mimetype": "text/x-python",
   "name": "python",
   "nbconvert_exporter": "python",
   "pygments_lexer": "ipython3",
   "version": "3.7.7"
  }
 },
 "nbformat": 4,
 "nbformat_minor": 4
}
