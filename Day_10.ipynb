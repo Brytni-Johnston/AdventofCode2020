{
 "cells": [
  {
   "cell_type": "code",
   "execution_count": 1,
   "metadata": {},
   "outputs": [],
   "source": [
    "import numpy as np\n",
    "import pandas as pd\n",
    "\n",
    "data = np.loadtxt('day10input.txt',dtype=float)"
   ]
  },
  {
   "cell_type": "code",
   "execution_count": 2,
   "metadata": {},
   "outputs": [
    {
     "data": {
      "text/plain": [
       "2312"
      ]
     },
     "execution_count": 2,
     "metadata": {},
     "output_type": "execute_result"
    }
   ],
   "source": [
    "#Part 1: Find intervals of 1 and intervals of 3 product?\n",
    "\n",
    "intervals = (np.sort(data) - np.roll(np.where(np.sort(data) == 167, 0, np.sort(data)),1))\n",
    "np.prod(np.unique(intervals,return_counts=True)[1]+np.array([0,1]))"
   ]
  },
  {
   "cell_type": "code",
   "execution_count": 3,
   "metadata": {},
   "outputs": [
    {
     "data": {
      "text/plain": [
       "12089663946752"
      ]
     },
     "execution_count": 3,
     "metadata": {},
     "output_type": "execute_result"
    }
   ],
   "source": [
    "#Part 2: How many unique arrangements of chargers are there?\n",
    "\n",
    "multipliers = {1:1,2:2,3:4,4:7}\n",
    "\n",
    "sets = []\n",
    "ones = 0\n",
    "for i in intervals:\n",
    "    if (i == 3) and (ones > 0):\n",
    "        sets.append(ones)\n",
    "        ones = 0\n",
    "    if i == 1:\n",
    "        ones += 1\n",
    "if ones>0:\n",
    "    sets.append(ones)\n",
    "    \n",
    "np.prod([multipliers[i] for i in sets],dtype=np.int64)\n",
    "        "
   ]
  },
  {
   "cell_type": "code",
   "execution_count": null,
   "metadata": {},
   "outputs": [],
   "source": []
  }
 ],
 "metadata": {
  "kernelspec": {
   "display_name": "Python 3",
   "language": "python",
   "name": "python3"
  },
  "language_info": {
   "codemirror_mode": {
    "name": "ipython",
    "version": 3
   },
   "file_extension": ".py",
   "mimetype": "text/x-python",
   "name": "python",
   "nbconvert_exporter": "python",
   "pygments_lexer": "ipython3",
   "version": "3.7.7"
  }
 },
 "nbformat": 4,
 "nbformat_minor": 4
}
