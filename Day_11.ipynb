{
 "cells": [
  {
   "cell_type": "code",
   "execution_count": 1,
   "metadata": {},
   "outputs": [],
   "source": [
    "import numpy as np\n",
    "import pandas as pd\n",
    "\n",
    "data = np.loadtxt('day11input.txt',dtype=str)"
   ]
  },
  {
   "cell_type": "code",
   "execution_count": 2,
   "metadata": {},
   "outputs": [
    {
     "name": "stdout",
     "output_type": "stream",
     "text": [
      "2126\n"
     ]
    }
   ],
   "source": [
    "#Part 1: If seats flip if 4 neighbors are empty or full, how many seats end up occupied?\n",
    "\n",
    "unstable = True\n",
    "EW = {'N':0,'S':0,'E':1,'W':-1,'NW':-1,'NE':1,'SW':-1,'SE':1}\n",
    "NS = {'N':-1,'S':1,'E':0,'W':0,'NW':-1,'NE':-1,'SW':1,'SE':1}\n",
    "\n",
    "while unstable:\n",
    "    prev = [i for i in data]\n",
    "    for i in np.arange(len(data)):\n",
    "        for j in np.arange(len(data[0])):\n",
    "            seats = 0\n",
    "            Dir = ['N','S','E','W','NW','NE','SW','SE']\n",
    "            if i == 0:\n",
    "                Dir.remove('N')\n",
    "                Dir.remove('NW')\n",
    "                Dir.remove('NE')\n",
    "            if i == 89:\n",
    "                Dir.remove('S')\n",
    "                Dir.remove('SW')\n",
    "                Dir.remove('SE')                \n",
    "            if j == 0:\n",
    "                Dir.remove('W')\n",
    "                try:\n",
    "                    Dir.remove('SW')\n",
    "                except:\n",
    "                    pass\n",
    "                try:\n",
    "                    Dir.remove('NW')\n",
    "                except:\n",
    "                    pass\n",
    "            if j == 91:\n",
    "                Dir.remove('E')\n",
    "                try:\n",
    "                    Dir.remove('SE')\n",
    "                except:\n",
    "                    pass\n",
    "                try:\n",
    "                    Dir.remove('NE')\n",
    "                except:\n",
    "                    pass                     \n",
    "            for k in Dir:\n",
    "                if prev[i+NS[k]][j+EW[k]] == '#':\n",
    "                    seats += 1\n",
    "            if data[i][j] != '.':\n",
    "                if seats == 0:\n",
    "                    data[i] = data[i][:j]+'#'+data[i][j+1:]\n",
    "                elif seats >= 4:\n",
    "                    data[i] = data[i][:j]+'L'+data[i][j+1:]\n",
    "    if np.prod((data == prev)) == 1:\n",
    "        unstable = False\n",
    "        print(sum([i.count('#') for i in data]))\n",
    "\n",
    "            \n",
    "\n"
   ]
  },
  {
   "cell_type": "code",
   "execution_count": 3,
   "metadata": {},
   "outputs": [
    {
     "name": "stdout",
     "output_type": "stream",
     "text": [
      "1914\n"
     ]
    }
   ],
   "source": [
    "#Part 2: If seats flip if 5 neighbors are empty or full along sight lines, how many seats end up occupied?\n",
    "\n",
    "data = np.loadtxt('day11input.txt',dtype=str)\n",
    "unstable = True\n",
    "\n",
    "Dir = ['N','S','E','W','NW','NE','SW','SE']\n",
    "EW = {'N':0,'S':0,'E':1,'W':-1,'NW':-1,'NE':1,'SW':-1,'SE':1}\n",
    "NS = {'N':-1,'S':1,'E':0,'W':0,'NW':-1,'NE':-1,'SW':1,'SE':1}\n",
    "\n",
    "while unstable:\n",
    "    prev = [i for i in data]\n",
    "    for i in np.arange(len(data)):\n",
    "        for j in np.arange(len(data[0])):\n",
    "            seats = 0\n",
    "            for k in Dir:\n",
    "                seat_i = i\n",
    "                seat_j = j\n",
    "                seat = '.'\n",
    "                while seat == '.':\n",
    "                    seat_i += NS[k]\n",
    "                    seat_j += EW[k]\n",
    "                    if (0 <= seat_i < 90) and (0 <= seat_j < 92):\n",
    "                        seat = prev[seat_i][seat_j]\n",
    "                    else:\n",
    "                        break\n",
    "                if seat == '#':\n",
    "                    seats += 1\n",
    "                    \n",
    "            if data[i][j] != '.':\n",
    "                if seats == 0:\n",
    "                    data[i] = data[i][:j]+'#'+data[i][j+1:]\n",
    "                elif seats >= 5:\n",
    "                    data[i] = data[i][:j]+'L'+data[i][j+1:]   \n",
    "                    \n",
    "    if np.prod((data == prev)) == 1:\n",
    "        unstable = False\n",
    "        print(sum([i.count('#') for i in data]))"
   ]
  },
  {
   "cell_type": "code",
   "execution_count": null,
   "metadata": {},
   "outputs": [],
   "source": []
  }
 ],
 "metadata": {
  "kernelspec": {
   "display_name": "Python 3",
   "language": "python",
   "name": "python3"
  },
  "language_info": {
   "codemirror_mode": {
    "name": "ipython",
    "version": 3
   },
   "file_extension": ".py",
   "mimetype": "text/x-python",
   "name": "python",
   "nbconvert_exporter": "python",
   "pygments_lexer": "ipython3",
   "version": "3.7.7"
  }
 },
 "nbformat": 4,
 "nbformat_minor": 4
}
