{
 "cells": [
  {
   "cell_type": "code",
   "execution_count": 1,
   "metadata": {},
   "outputs": [],
   "source": [
    "import numpy as np\n",
    "import pandas as pd\n",
    "from pulp import *\n",
    "\n",
    "data = pd.read_csv('day13input.txt',dtype=str,delimiter=',',engine='python')\n",
    "earliest = int(data.columns[0])\n",
    "data = np.loadtxt('day13input.txt',dtype=str,skiprows=1,delimiter=',')"
   ]
  },
  {
   "cell_type": "code",
   "execution_count": 2,
   "metadata": {},
   "outputs": [
    {
     "data": {
      "text/plain": [
       "2935"
      ]
     },
     "execution_count": 2,
     "metadata": {},
     "output_type": "execute_result"
    }
   ],
   "source": [
    "#Part 1: What is the product of the minimum wait time and the bus ID of that bus?\n",
    "\n",
    "buses = data[np.where(data!='x')].astype(int)\n",
    "wait = buses - [earliest%i for i in buses]\n",
    "(min(wait)*buses[np.where(wait == min(wait))])[0]"
   ]
  },
  {
   "cell_type": "code",
   "execution_count": 3,
   "metadata": {},
   "outputs": [
    {
     "name": "stdout",
     "output_type": "stream",
     "text": [
      "\n",
      "--------------------------------------------\n",
      "Warning: your license will expire in 14 days\n",
      "--------------------------------------------\n",
      "\n",
      "Using license file C:\\Users\\brytni.johnston\\gurobi.lic\n",
      "Academic license - for non-commercial use only\n",
      "Gurobi Optimizer version 9.0.2 build v9.0.2rc0 (win64)\n",
      "Optimize a model with 9 rows, 10 columns and 18 nonzeros\n",
      "Model fingerprint: 0x95f4d00e\n",
      "Variable types: 0 continuous, 10 integer (0 binary)\n",
      "Coefficient statistics:\n",
      "  Matrix range     [1e+00, 7e+02]\n",
      "  Objective range  [1e+00, 1e+00]\n",
      "  Bounds range     [0e+00, 0e+00]\n",
      "  RHS range        [3e+01, 9e+01]\n",
      "Presolve removed 9 rows and 10 columns\n",
      "Presolve time: 0.00s\n",
      "Presolve: All rows and columns removed\n",
      "\n",
      "Explored 0 nodes (0 simplex iterations) in 0.01 seconds\n",
      "Thread count was 1 (of 8 available processors)\n",
      "\n",
      "Solution count 1: 8.36025e+14 \n",
      "\n",
      "Optimal solution found (tolerance 1.00e-04)\n",
      "Warning: some integer variables take values larger than the maximum\n",
      "         supported value (2000000000)\n",
      "Best objective 8.360249663453e+14, best bound 8.360249663453e+14, gap 0.0000%\n",
      "Gurobi status= 2\n",
      "836024966345345.0\n"
     ]
    }
   ],
   "source": [
    "#Part 2: What is the minimum time step where the buses leave in succession (with x's as gaps)?\n",
    "\n",
    "prob = LpProblem('LP Practice', LpMinimize)\n",
    "Indices = list(np.arange(len(buses)).astype(str))\n",
    "X = LpVariable.dicts('X',Indices,lowBound=0,cat=LpInteger)\n",
    "t = LpVariable('t',lowBound=0,cat=LpInteger)\n",
    "\n",
    "prob += t, 'objective function'\n",
    "for i in Indices:\n",
    "    prob += X[i]*buses[int(i)] - t == np.where(data == str(buses[int(i)]))[0][0], 'bus interval constraint'+i\n",
    "    \n",
    "prob.solve(GUROBI())\n",
    "print(t.varValue)"
   ]
  },
  {
   "cell_type": "code",
   "execution_count": null,
   "metadata": {},
   "outputs": [],
   "source": []
  }
 ],
 "metadata": {
  "kernelspec": {
   "display_name": "Python 3",
   "language": "python",
   "name": "python3"
  },
  "language_info": {
   "codemirror_mode": {
    "name": "ipython",
    "version": 3
   },
   "file_extension": ".py",
   "mimetype": "text/x-python",
   "name": "python",
   "nbconvert_exporter": "python",
   "pygments_lexer": "ipython3",
   "version": "3.7.7"
  }
 },
 "nbformat": 4,
 "nbformat_minor": 4
}
