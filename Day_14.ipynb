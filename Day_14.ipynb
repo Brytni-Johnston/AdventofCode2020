{
 "cells": [
  {
   "cell_type": "code",
   "execution_count": 1,
   "metadata": {},
   "outputs": [],
   "source": [
    "import numpy as np\n",
    "import pandas as pd\n",
    "import itertools\n",
    "\n",
    "data = np.loadtxt('day14input.txt',dtype=str,delimiter=' = ')"
   ]
  },
  {
   "cell_type": "code",
   "execution_count": 2,
   "metadata": {},
   "outputs": [
    {
     "name": "stdout",
     "output_type": "stream",
     "text": [
      "9628746976360\n"
     ]
    }
   ],
   "source": [
    "#Part 1: What is the sum of the masked values stored in memory?\n",
    "\n",
    "memory = {}\n",
    "\n",
    "for i in data:\n",
    "    if i[0] == 'mask':\n",
    "        mask = np.array(list(i[1]))\n",
    "    else:\n",
    "        binnum = np.array(list(bin(int(i[1]))[2:].zfill(36)))\n",
    "        new_num = np.array([i for i in mask])\n",
    "        new_num[np.where(new_num == 'X')] = binnum[np.where(new_num == 'X')]\n",
    "        memory[i[0][4:-1]] = int(''.join(list(new_num)),2)\n",
    "\n",
    "print(sum(memory.values()))"
   ]
  },
  {
   "cell_type": "code",
   "execution_count": 3,
   "metadata": {},
   "outputs": [
    {
     "name": "stdout",
     "output_type": "stream",
     "text": [
      "4574598714592\n"
     ]
    }
   ],
   "source": [
    "#Part 2: Applying masks to the memory instead, what is the sum of the values stored in memory?\n",
    "  \n",
    "memory = {}\n",
    "\n",
    "for i in data:\n",
    "    if i[0] == 'mask':\n",
    "        mask = np.array(list(i[1]))\n",
    "        num_X = np.count_nonzero(mask == 'X')\n",
    "        perms = [\"\".join(seq) for seq in itertools.product(\"01\", repeat=num_X)]\n",
    "    else:\n",
    "        binnum = np.array(list(bin(int(i[0][4:-1]))[2:].zfill(36)))\n",
    "        binnum[np.where(mask == '1')] = '1'\n",
    "        binnum[np.where(mask == 'X')] = 'X'\n",
    "        for j in perms:\n",
    "            new_num = np.array([i for i in binnum])\n",
    "            new_num[np.where(new_num == 'X')] = np.array(list(j))\n",
    "            memory[''.join(list(new_num))] = int(i[1])\n",
    "                \n",
    "print(sum(memory.values()))               "
   ]
  },
  {
   "cell_type": "code",
   "execution_count": null,
   "metadata": {},
   "outputs": [],
   "source": []
  }
 ],
 "metadata": {
  "kernelspec": {
   "display_name": "Python 3",
   "language": "python",
   "name": "python3"
  },
  "language_info": {
   "codemirror_mode": {
    "name": "ipython",
    "version": 3
   },
   "file_extension": ".py",
   "mimetype": "text/x-python",
   "name": "python",
   "nbconvert_exporter": "python",
   "pygments_lexer": "ipython3",
   "version": "3.7.7"
  }
 },
 "nbformat": 4,
 "nbformat_minor": 4
}
