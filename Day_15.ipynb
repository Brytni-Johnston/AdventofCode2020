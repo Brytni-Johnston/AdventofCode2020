{
 "cells": [
  {
   "cell_type": "code",
   "execution_count": 1,
   "metadata": {},
   "outputs": [],
   "source": [
    "import numpy as np"
   ]
  },
  {
   "cell_type": "code",
   "execution_count": 2,
   "metadata": {},
   "outputs": [
    {
     "name": "stdout",
     "output_type": "stream",
     "text": [
      "1259\n",
      "Wall time: 9.99 ms\n"
     ]
    }
   ],
   "source": [
    "%%time\n",
    "#Part 1: What is the 2020th number in the memory game?\n",
    "\n",
    "steps = 2020\n",
    "data = [15,5,1,4,7,0][::-1]\n",
    "used_nums = set([15,5,1,4,7])\n",
    "\n",
    "num = data[0]\n",
    "for i in np.arange(steps-len(data)):\n",
    "    if num in used_nums:\n",
    "        num = data[1:].index(num)+1\n",
    "    else:\n",
    "        used_nums.add(num)\n",
    "        num = 0\n",
    "    data.insert(0,num)\n",
    "print(num)"
   ]
  },
  {
   "cell_type": "code",
   "execution_count": 3,
   "metadata": {},
   "outputs": [
    {
     "name": "stdout",
     "output_type": "stream",
     "text": [
      "689\n",
      "Wall time: 50.5 s\n"
     ]
    }
   ],
   "source": [
    "%%time\n",
    "#Part 2: What is the 3,000,000th number in the memory game?\n",
    "\n",
    "steps = 30000000\n",
    "lastseen = {}\n",
    "data = [15,5,1,4,7,0]\n",
    "\n",
    "for i in np.arange(len(data[:-1])):\n",
    "    lastseen[data[i]] = i\n",
    "\n",
    "prev = data[-1]\n",
    "for i in np.arange(len(data),steps):\n",
    "    if prev in lastseen:\n",
    "        num = i - lastseen[prev] - 1\n",
    "    else:\n",
    "        num = 0\n",
    "    lastseen[prev] = i-1\n",
    "    prev = num\n",
    "print(num)"
   ]
  },
  {
   "cell_type": "code",
   "execution_count": null,
   "metadata": {},
   "outputs": [],
   "source": []
  }
 ],
 "metadata": {
  "kernelspec": {
   "display_name": "Python 3",
   "language": "python",
   "name": "python3"
  },
  "language_info": {
   "codemirror_mode": {
    "name": "ipython",
    "version": 3
   },
   "file_extension": ".py",
   "mimetype": "text/x-python",
   "name": "python",
   "nbconvert_exporter": "python",
   "pygments_lexer": "ipython3",
   "version": "3.7.7"
  }
 },
 "nbformat": 4,
 "nbformat_minor": 4
}
