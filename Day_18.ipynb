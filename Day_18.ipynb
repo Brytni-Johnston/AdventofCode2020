{
 "cells": [
  {
   "cell_type": "code",
   "execution_count": 1,
   "metadata": {},
   "outputs": [],
   "source": [
    "import pandas as pd\n",
    "import numpy as np\n",
    "import re\n",
    "\n",
    "eqs = pd.read_csv('day18input.txt',dtype=str,delimiter=None,header=None)\n",
    "eqs[1] = 0"
   ]
  },
  {
   "cell_type": "code",
   "execution_count": 2,
   "metadata": {},
   "outputs": [
    {
     "name": "stdout",
     "output_type": "stream",
     "text": [
      "5783053349377\n"
     ]
    }
   ],
   "source": [
    "#Part 1: Following a sequential order of operations (besides parentheses), what is the sum of the answers to each problem?\n",
    "\n",
    "op = {'+': lambda x, y: x + y,\n",
    "      '*': lambda x, y: x * y}\n",
    "\n",
    "def solve(exp):\n",
    "    exp = exp.split(' ')\n",
    "    val = int(exp[0])\n",
    "    for i in np.arange((len(exp)-1)/2):\n",
    "        val = op[exp[2*int(i)+1]](val,int(exp[2*int(i)+2]))\n",
    "    return(val)\n",
    "\n",
    "for i in eqs.index:\n",
    "    while '(' in eqs.loc[i,0]:\n",
    "        expressions = [x.group() for x in re.finditer(\"\\(\\d( *[+*]*\\d*)*\\)\",eqs.loc[i,0])]\n",
    "        for exp in expressions:\n",
    "            eqs.loc[i,0] = eqs.loc[i,0].replace(exp,str(solve(exp[1:-1])))\n",
    "            \n",
    "    eqs.loc[i,1] = solve(eqs.loc[i,0])\n",
    "    \n",
    "print(eqs[1].sum())"
   ]
  },
  {
   "cell_type": "code",
   "execution_count": 3,
   "metadata": {},
   "outputs": [
    {
     "name": "stdout",
     "output_type": "stream",
     "text": [
      "74821486966872\n"
     ]
    }
   ],
   "source": [
    "#Part 2: With + being evaluated before * (besides parentheses), what is the sum of the answers to each problem?\n",
    "\n",
    "eqs = pd.read_csv('day18input.txt',dtype=str,delimiter=None,header=None)\n",
    "eqs[1] = 0\n",
    "\n",
    "def solve(exp):\n",
    "    while '+' in exp:\n",
    "        mini_exp = re.search('\\d* \\+ \\d*',exp)[0]\n",
    "        exp = exp.replace(mini_exp,str(int(mini_exp.split(' ')[0])+int(mini_exp.split(' ')[2])),1)\n",
    "    exp = exp.split(' ')\n",
    "    val = int(exp[0])\n",
    "    for i in np.arange((len(exp)-1)/2):\n",
    "        val = val*int(exp[2*int(i)+2])\n",
    "    return(val)\n",
    "\n",
    "for i in eqs.index:\n",
    "    while '(' in eqs.loc[i,0]:\n",
    "        expressions = [x.group() for x in re.finditer(\"\\(\\d( *[+*]*\\d*)*\\)\",eqs.loc[i,0])]\n",
    "        for exp in expressions:\n",
    "            eqs.loc[i,0] = eqs.loc[i,0].replace(exp,str(solve(exp[1:-1])))      \n",
    "    eqs.loc[i,1] += solve(eqs.loc[i,0])\n",
    "    \n",
    "print(eqs[1].sum())"
   ]
  },
  {
   "cell_type": "code",
   "execution_count": null,
   "metadata": {},
   "outputs": [],
   "source": []
  }
 ],
 "metadata": {
  "kernelspec": {
   "display_name": "Python 3",
   "language": "python",
   "name": "python3"
  },
  "language_info": {
   "codemirror_mode": {
    "name": "ipython",
    "version": 3
   },
   "file_extension": ".py",
   "mimetype": "text/x-python",
   "name": "python",
   "nbconvert_exporter": "python",
   "pygments_lexer": "ipython3",
   "version": "3.7.7"
  }
 },
 "nbformat": 4,
 "nbformat_minor": 4
}
