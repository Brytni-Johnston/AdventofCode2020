{
 "cells": [
  {
   "cell_type": "code",
   "execution_count": 1,
   "metadata": {},
   "outputs": [],
   "source": [
    "import numpy as np\n",
    "import pandas as pd\n",
    "import re\n",
    "import regex\n",
    "\n",
    "rules = pd.read_csv('day19input.txt',dtype=str,delimiter=':',header=None,nrows=130,index_col=0).sort_index()\n",
    "texts = pd.read_csv('day19input.txt',dtype=str,delimiter=None,header=None,skiprows=131)"
   ]
  },
  {
   "cell_type": "code",
   "execution_count": 2,
   "metadata": {},
   "outputs": [
    {
     "name": "stdout",
     "output_type": "stream",
     "text": [
      "200\n"
     ]
    }
   ],
   "source": [
    "#Part 1: How many coded texts match rule 0?\n",
    "\n",
    "a_index = ' '+str(np.where(rules[1] == ' \"a\"')[0][0])+' '\n",
    "b_index = ' '+str(np.where(rules[1] == ' \"b\"')[0][0])+' '\n",
    "rules.loc[int(a_index),1] = ' a '\n",
    "rules.loc[int(b_index),1] = ' b '\n",
    "rules[1] = rules[1] + ' '\n",
    "    \n",
    "while bool(re.search(r'\\d', rules.loc[0,1])):\n",
    "    complete = rules[rules[1].str.contains('\\A\\D*\\Z')].index.astype(str)\n",
    "    for i in rules.index:\n",
    "        for j in complete:\n",
    "            while ' '+j+' ' in rules.loc[i,1]:\n",
    "                if '|' in rules.loc[int(j),1]:\n",
    "                    rules.loc[i,1] = rules.loc[i,1].replace(' '+j+' ',' ('+rules.loc[int(j),1]+') ')\n",
    "                else:\n",
    "                    rules.loc[i,1] = rules.loc[i,1].replace(' '+j+' ',rules.loc[int(j),1])\n",
    "    rules.drop(index=list(complete.astype(int)),inplace=True)\n",
    "    \n",
    "rule = rules.values[0][0].replace(' ','')\n",
    "\n",
    "total = 0\n",
    "for i in texts.index:\n",
    "    if bool(re.search('^'+rule+'$',texts.loc[i,0])):\n",
    "        total +=1\n",
    "        \n",
    "print(total)"
   ]
  },
  {
   "cell_type": "code",
   "execution_count": 3,
   "metadata": {},
   "outputs": [
    {
     "name": "stdout",
     "output_type": "stream",
     "text": [
      "407\n"
     ]
    }
   ],
   "source": [
    "#Part 2: Replace two rules (creating loops) and find the new number of valid texts.\n",
    "\n",
    "rules = pd.read_csv('day19input.txt',dtype=str,delimiter=':',header=None,nrows=130,index_col=0).sort_index()\n",
    "\n",
    "rules.loc[8,1] = ' ( 42 ) + '\n",
    "rules.loc[11,1] = ' ( ?<x> 42 (?&x)? 31 ) '\n",
    "\n",
    "a_index = ' '+str(np.where(rules[1] == ' \"a\"')[0][0])+' '\n",
    "b_index = ' '+str(np.where(rules[1] == ' \"b\"')[0][0])+' '\n",
    "rules.loc[int(a_index),1] = ' a '\n",
    "rules.loc[int(b_index),1] = ' b '\n",
    "rules[1] = rules[1] + ' '\n",
    "    \n",
    "while bool(re.search(r'\\d', rules.loc[0,1])):\n",
    "    complete = rules[rules[1].str.contains('\\A\\D*\\Z')].index.astype(str)\n",
    "    for i in rules.index:\n",
    "        for j in complete:\n",
    "            while ' '+j+' ' in rules.loc[i,1]:\n",
    "                if '|' in rules.loc[int(j),1]:\n",
    "                    rules.loc[i,1] = rules.loc[i,1].replace(' '+j+' ',' ('+rules.loc[int(j),1]+') ')\n",
    "                else:\n",
    "                    rules.loc[i,1] = rules.loc[i,1].replace(' '+j+' ',rules.loc[int(j),1])\n",
    "    rules.drop(index=list(complete.astype(int)),inplace=True)\n",
    "    \n",
    "rule = rules.values[0][0].replace(' ','')\n",
    "\n",
    "total = 0\n",
    "\n",
    "for i in texts.index:\n",
    "    if bool(regex.search('^'+rule+'$',texts.loc[i,0])):\n",
    "        total +=1\n",
    "        \n",
    "print(total)"
   ]
  },
  {
   "cell_type": "code",
   "execution_count": null,
   "metadata": {},
   "outputs": [],
   "source": []
  }
 ],
 "metadata": {
  "kernelspec": {
   "display_name": "Python 3",
   "language": "python",
   "name": "python3"
  },
  "language_info": {
   "codemirror_mode": {
    "name": "ipython",
    "version": 3
   },
   "file_extension": ".py",
   "mimetype": "text/x-python",
   "name": "python",
   "nbconvert_exporter": "python",
   "pygments_lexer": "ipython3",
   "version": "3.7.7"
  }
 },
 "nbformat": 4,
 "nbformat_minor": 4
}
