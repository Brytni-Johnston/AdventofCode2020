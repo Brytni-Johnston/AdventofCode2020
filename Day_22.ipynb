{
 "cells": [
  {
   "cell_type": "code",
   "execution_count": 1,
   "metadata": {},
   "outputs": [],
   "source": [
    "import pandas as pd\n",
    "import numpy as np\n",
    "\n",
    "Player1 = list(pd.read_csv('day22input.txt',header=None,skiprows=1,nrows=25)[0])\n",
    "Player2 = list(pd.read_csv('day22input.txt',header=None,skiprows=28,nrows=25)[0])"
   ]
  },
  {
   "cell_type": "code",
   "execution_count": 2,
   "metadata": {},
   "outputs": [
    {
     "name": "stdout",
     "output_type": "stream",
     "text": [
      "33559\n"
     ]
    }
   ],
   "source": [
    "#Part 1: What is the winning player's score?\n",
    "\n",
    "while (len(Player1) > 0) and (len(Player2) > 0):\n",
    "    card1 = Player1.pop(0)\n",
    "    card2 = Player2.pop(0)\n",
    "    if card1 > card2:\n",
    "        Player1.append(card1)\n",
    "        Player1.append(card2)\n",
    "    else:\n",
    "        Player2.append(card2)\n",
    "        Player2.append(card1)\n",
    "        \n",
    "if len(Player1) > len(Player2):\n",
    "    print(sum([a*b for a,b in zip(Player1,[i for i in range(1,51)[::-1]])]))\n",
    "else:\n",
    "    print(sum([a*b for a,b in zip(Player2,[i for i in range(1,51)[::-1]])]))"
   ]
  },
  {
   "cell_type": "code",
   "execution_count": 3,
   "metadata": {},
   "outputs": [
    {
     "name": "stdout",
     "output_type": "stream",
     "text": [
      "32789\n"
     ]
    }
   ],
   "source": [
    "#Part 2: What is the winning player's score in recursive combat?\n",
    "\n",
    "Player1 = list(pd.read_csv('day22input.txt',header=None,skiprows=1,nrows=25)[0])\n",
    "Player2 = list(pd.read_csv('day22input.txt',header=None,skiprows=28,nrows=25)[0])\n",
    "\n",
    "def Play(Deck1,Deck2,depth):\n",
    "    History1 = []\n",
    "    History2 = []\n",
    "    while (len(Deck1) > 0) and (len(Deck2) > 0):\n",
    "        if ((Deck1 in History1) and (Deck2 in History2)) and (History1.index(Deck1) == History2.index(Deck2)):\n",
    "            return('Player1')\n",
    "        else:\n",
    "            History1.append([i for i in Deck1])\n",
    "            History2.append([i for i in Deck2])\n",
    "            card1 = Deck1.pop(0)\n",
    "            card2 = Deck2.pop(0)\n",
    "\n",
    "            if (len(Deck1) >= card1) and (len(Deck2) >= card2):\n",
    "                Winner = Play(Deck1[:card1],Deck2[:card2],depth+1)\n",
    "                if Winner == 'Player1':\n",
    "                    Deck1.append(card1)\n",
    "                    Deck1.append(card2)\n",
    "                else:\n",
    "                    Deck2.append(card2)\n",
    "                    Deck2.append(card1)\n",
    "            else:\n",
    "                if card1 > card2:\n",
    "                    Deck1.append(card1)\n",
    "                    Deck1.append(card2)\n",
    "                else:\n",
    "                    Deck2.append(card2)\n",
    "                    Deck2.append(card1)\n",
    "    if depth > 0:\n",
    "        if len(Deck1) > len(Deck2):\n",
    "            return('Player1')\n",
    "        else:\n",
    "            return('Player2')\n",
    "    else:\n",
    "        if len(Deck1) > len(Deck2):\n",
    "            return(sum([a*b for a,b in zip(Deck1,[i for i in range(1,51)[::-1]])]))\n",
    "        else:\n",
    "            return(sum([a*b for a,b in zip(Deck2,[i for i in range(1,51)[::-1]])]))\n",
    "        \n",
    "print(Play(Player1,Player2,0))"
   ]
  },
  {
   "cell_type": "code",
   "execution_count": null,
   "metadata": {},
   "outputs": [],
   "source": []
  }
 ],
 "metadata": {
  "kernelspec": {
   "display_name": "Python 3",
   "language": "python",
   "name": "python3"
  },
  "language_info": {
   "codemirror_mode": {
    "name": "ipython",
    "version": 3
   },
   "file_extension": ".py",
   "mimetype": "text/x-python",
   "name": "python",
   "nbconvert_exporter": "python",
   "pygments_lexer": "ipython3",
   "version": "3.7.7"
  }
 },
 "nbformat": 4,
 "nbformat_minor": 4
}
