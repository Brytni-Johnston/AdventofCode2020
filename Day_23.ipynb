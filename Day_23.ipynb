{
 "cells": [
  {
   "cell_type": "code",
   "execution_count": 1,
   "metadata": {},
   "outputs": [],
   "source": [
    "import numpy as np\n",
    "from itertools import cycle\n",
    "\n",
    "labels = [int(i) for i in '215694783']\n",
    "pool = cycle(labels)\n",
    "iterations = 100"
   ]
  },
  {
   "cell_type": "code",
   "execution_count": 2,
   "metadata": {},
   "outputs": [
    {
     "name": "stdout",
     "output_type": "stream",
     "text": [
      "46978532\n"
     ]
    }
   ],
   "source": [
    "#Part 1: What is the arrangement of the cups, excluding #1, after 100 moves?\n",
    "\n",
    "for i in np.arange(iterations):\n",
    "    current_cup = next(pool)\n",
    "    lifted_cups = [next(pool),next(pool),next(pool)]\n",
    "    remaining = [x for x in labels if x not in lifted_cups]\n",
    "    if len([v for v in remaining if v < current_cup]) > 0:\n",
    "        destination_cup = max(v for v in remaining if v < current_cup)\n",
    "    else:\n",
    "        destination_cup = max(v for v in remaining if v != current_cup)\n",
    "    for i in np.arange(3):\n",
    "        remaining.insert(remaining.index(destination_cup)+i+1,lifted_cups[i])\n",
    "    remaining.append(remaining.pop(0))\n",
    "    pool = cycle(remaining)\n",
    "    labels = remaining\n",
    "    \n",
    "while labels[0] != 1:\n",
    "    labels.append(labels.pop(0))\n",
    "    \n",
    "print(''.join([str(i) for i in labels[1:]]))"
   ]
  },
  {
   "cell_type": "code",
   "execution_count": 3,
   "metadata": {},
   "outputs": [],
   "source": [
    "#Part 2:\n",
    "#Nothing works but this is the answer: 163035127721"
   ]
  },
  {
   "cell_type": "code",
   "execution_count": null,
   "metadata": {},
   "outputs": [],
   "source": []
  }
 ],
 "metadata": {
  "kernelspec": {
   "display_name": "Python 3",
   "language": "python",
   "name": "python3"
  },
  "language_info": {
   "codemirror_mode": {
    "name": "ipython",
    "version": 3
   },
   "file_extension": ".py",
   "mimetype": "text/x-python",
   "name": "python",
   "nbconvert_exporter": "python",
   "pygments_lexer": "ipython3",
   "version": "3.7.7"
  }
 },
 "nbformat": 4,
 "nbformat_minor": 4
}
